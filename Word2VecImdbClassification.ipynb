{
  "nbformat": 4,
  "nbformat_minor": 0,
  "metadata": {
    "colab": {
      "name": "Word2VecImdbClassification.ipynb",
      "provenance": [],
      "collapsed_sections": [],
      "toc_visible": true
    },
    "kernelspec": {
      "name": "python3",
      "display_name": "Python 3"
    }
  },
  "cells": [
    {
      "cell_type": "code",
      "metadata": {
        "id": "Xe20TLWxOJBh"
      },
      "source": [
        "## Downloading Files"
      ],
      "execution_count": 45,
      "outputs": []
    },
    {
      "cell_type": "code",
      "metadata": {
        "colab": {
          "base_uri": "https://localhost:8080/"
        },
        "id": "j_CfjYjmOjXP",
        "outputId": "10302603-06c9-449b-ed6d-24d3fca62ce2"
      },
      "source": [
        "!wget -c \"https://s3.amazonaws.com/dl4j-distribution/GoogleNews-vectors-negative300.bin.gz\""
      ],
      "execution_count": 46,
      "outputs": [
        {
          "output_type": "stream",
          "text": [
            "--2021-02-24 07:53:34--  https://s3.amazonaws.com/dl4j-distribution/GoogleNews-vectors-negative300.bin.gz\n",
            "Resolving s3.amazonaws.com (s3.amazonaws.com)... 52.217.77.38\n",
            "Connecting to s3.amazonaws.com (s3.amazonaws.com)|52.217.77.38|:443... connected.\n",
            "HTTP request sent, awaiting response... 416 Requested Range Not Satisfiable\n",
            "\n",
            "    The file is already fully retrieved; nothing to do.\n",
            "\n"
          ],
          "name": "stdout"
        }
      ]
    },
    {
      "cell_type": "code",
      "metadata": {
        "colab": {
          "base_uri": "https://localhost:8080/"
        },
        "id": "Xzqfj3YQO0Jh",
        "outputId": "b8bae720-f774-4bf1-9c99-4396df80a7ba"
      },
      "source": [
        "!gunzip GoogleNews-vectors-negative300.bin.gz"
      ],
      "execution_count": 47,
      "outputs": [
        {
          "output_type": "stream",
          "text": [
            "gzip: GoogleNews-vectors-negative300.bin already exists; do you wish to overwrite (y or n)? n\n",
            "\tnot overwritten\n"
          ],
          "name": "stdout"
        }
      ]
    },
    {
      "cell_type": "markdown",
      "metadata": {
        "id": "3km1UdzDOZVy"
      },
      "source": [
        "## Importing the Libraries\n",
        "\n"
      ]
    },
    {
      "cell_type": "code",
      "metadata": {
        "colab": {
          "base_uri": "https://localhost:8080/"
        },
        "id": "659pplAzPoRV",
        "outputId": "2b33728b-0172-4a97-d9ee-78ef6bdd34e6"
      },
      "source": [
        "import pandas as pd \n",
        "import numpy as np \n",
        "\n",
        "from gensim.models import KeyedVectors,Word2Vec\n",
        "from sklearn import model_selection \n",
        "from sklearn import metrics\n",
        "from sklearn.pipeline import Pipeline\n",
        "from sklearn.linear_model import LogisticRegression\n",
        "\n",
        "import nltk \n",
        "from nltk.corpus import stopwords\n",
        "nltk.download(\"stopwords\")\n",
        "nltk.download(\"punkt\")\n",
        "from nltk.tokenize import word_tokenize \n",
        "import string\n",
        "import re \n",
        "\n",
        "\n",
        "import pickle \n",
        "import joblib"
      ],
      "execution_count": 48,
      "outputs": [
        {
          "output_type": "stream",
          "text": [
            "[nltk_data] Downloading package stopwords to /root/nltk_data...\n",
            "[nltk_data]   Package stopwords is already up-to-date!\n",
            "[nltk_data] Downloading package punkt to /root/nltk_data...\n",
            "[nltk_data]   Package punkt is already up-to-date!\n"
          ],
          "name": "stdout"
        }
      ]
    },
    {
      "cell_type": "code",
      "metadata": {
        "id": "UYNL97jsxPUa"
      },
      "source": [
        "## Loading the data file"
      ],
      "execution_count": 49,
      "outputs": []
    },
    {
      "cell_type": "code",
      "metadata": {
        "colab": {
          "base_uri": "https://localhost:8080/"
        },
        "id": "lJ6gSOaAxSyU",
        "outputId": "c7c0e056-a4a6-4754-df53-cd7e3c3a68d2"
      },
      "source": [
        "df = pd.read_csv('imdb.csv')\n",
        "df.head()\n",
        "print(df.shape)"
      ],
      "execution_count": 50,
      "outputs": [
        {
          "output_type": "stream",
          "text": [
            "(50000, 2)\n"
          ],
          "name": "stdout"
        }
      ]
    },
    {
      "cell_type": "code",
      "metadata": {
        "id": "8TistiEy1HtE"
      },
      "source": [
        "## Loading word to vec model\n",
        "word2vec_model = KeyedVectors.load_word2vec_format('GoogleNews-vectors-negative300.bin',binary=True)"
      ],
      "execution_count": 51,
      "outputs": []
    },
    {
      "cell_type": "code",
      "metadata": {
        "id": "B9tCfNtY2BEP"
      },
      "source": [
        "# def preprocessing_corpus(texts):\n",
        "#   mystopwords = set(stopwords.words(\"english\"))\n",
        "#   def tokenize(text):\n",
        "#     text = text.replace('</br>','')\n",
        "#     return word_tokenize(text)\n",
        "\n",
        "#   def clean_and_tokenize(tokens):\n",
        "#     return [token.lower() for token in tokens if token not in mystopwords if token not in string.punctuation and not token.isdigit()]\n",
        "\n",
        "#   return [clean_and_tokenize(tokenize(text)) for text in texts]\n",
        "  "
      ],
      "execution_count": 63,
      "outputs": []
    },
    {
      "cell_type": "code",
      "metadata": {
        "id": "9TIH2uy-3_R0"
      },
      "source": [
        "# def embedding_feats(list_of_lists):\n",
        "#   feats = []\n",
        "#   DIMENSION = 300\n",
        "\n",
        "#   for tokens in list_of_lists:\n",
        "#     feat_for_this = np.zeros(DIMENSION)\n",
        "#     count_for_this = 0\n",
        "#     for token in tokens:\n",
        "#       if token in word2vec_model:\n",
        "#         feat_for_this += word2vec_model[token]\n",
        "#         count_for_this +=1\n",
        "#     feats.append(feat_for_this/count_for_this)\n",
        "  \n",
        "#   return feats \n"
      ],
      "execution_count": 67,
      "outputs": []
    },
    {
      "cell_type": "code",
      "metadata": {
        "colab": {
          "base_uri": "https://localhost:8080/",
          "height": 107
        },
        "id": "LyjyK0X15QB_",
        "outputId": "e091b8d4-c3af-49bb-e7a8-51228964a861"
      },
      "source": [
        "df.head(2)"
      ],
      "execution_count": 54,
      "outputs": [
        {
          "output_type": "execute_result",
          "data": {
            "text/html": [
              "<div>\n",
              "<style scoped>\n",
              "    .dataframe tbody tr th:only-of-type {\n",
              "        vertical-align: middle;\n",
              "    }\n",
              "\n",
              "    .dataframe tbody tr th {\n",
              "        vertical-align: top;\n",
              "    }\n",
              "\n",
              "    .dataframe thead th {\n",
              "        text-align: right;\n",
              "    }\n",
              "</style>\n",
              "<table border=\"1\" class=\"dataframe\">\n",
              "  <thead>\n",
              "    <tr style=\"text-align: right;\">\n",
              "      <th></th>\n",
              "      <th>review</th>\n",
              "      <th>sentiment</th>\n",
              "    </tr>\n",
              "  </thead>\n",
              "  <tbody>\n",
              "    <tr>\n",
              "      <th>0</th>\n",
              "      <td>One of the other reviewers has mentioned that ...</td>\n",
              "      <td>positive</td>\n",
              "    </tr>\n",
              "    <tr>\n",
              "      <th>1</th>\n",
              "      <td>A wonderful little production. &lt;br /&gt;&lt;br /&gt;The...</td>\n",
              "      <td>positive</td>\n",
              "    </tr>\n",
              "  </tbody>\n",
              "</table>\n",
              "</div>"
            ],
            "text/plain": [
              "                                              review sentiment\n",
              "0  One of the other reviewers has mentioned that ...  positive\n",
              "1  A wonderful little production. <br /><br />The...  positive"
            ]
          },
          "metadata": {
            "tags": []
          },
          "execution_count": 54
        }
      ]
    },
    {
      "cell_type": "code",
      "metadata": {
        "id": "jIcv-hil5VXC"
      },
      "source": [
        "X = df.review.values\n",
        "y = df.sentiment.map({'positive':1,'negative':0}).values"
      ],
      "execution_count": 55,
      "outputs": []
    },
    {
      "cell_type": "code",
      "metadata": {
        "id": "ysI3besA5iZb"
      },
      "source": [
        "from sklearn.model_selection import train_test_split \n",
        "X_train,X_test,y_train,y_test = train_test_split(X,y,test_size=0.2,stratify=y)"
      ],
      "execution_count": 56,
      "outputs": []
    },
    {
      "cell_type": "code",
      "metadata": {
        "id": "kJ3mZ0nb-Eig"
      },
      "source": [
        "class CreateEmbeddings():\n",
        "  def embedding_feats(list_of_lists):\n",
        "    feats = []\n",
        "    DIMENSION = 300\n",
        "\n",
        "    for tokens in list_of_lists:\n",
        "      feat_for_this = np.zeros(DIMENSION)\n",
        "      count_for_this = 0\n",
        "      for token in tokens:\n",
        "        if token in word2vec_model:\n",
        "          feat_for_this += word2vec_model[token]\n",
        "          count_for_this +=1\n",
        "      feats.append(feat_for_this/count_for_this)\n",
        "    \n",
        "    return feats \n",
        "  def __init__(self):\n",
        "    print('Called')\n",
        "  \n",
        "  def fit(self,x,y=None):\n",
        "    return self\n",
        "\n",
        "\n",
        "  def transform(self,X,y=None):\n",
        "    return CreateEmbeddings.embedding_feats(X)"
      ],
      "execution_count": 91,
      "outputs": []
    },
    {
      "cell_type": "code",
      "metadata": {
        "id": "XSCQRlLcHHFg"
      },
      "source": [
        ""
      ],
      "execution_count": null,
      "outputs": []
    },
    {
      "cell_type": "code",
      "metadata": {
        "id": "Dl4kMgsj81dR"
      },
      "source": [
        "class CleaningData():\n",
        "  def preprocessing_corpus(texts):\n",
        "    mystopwords = set(stopwords.words(\"english\"))\n",
        "    def tokenize(text):\n",
        "      text = text.replace('</br>','')\n",
        "      return word_tokenize(text)\n",
        "\n",
        "    def clean_and_tokenize(tokens):\n",
        "      return [token.lower() for token in tokens if token not in mystopwords if token not in string.punctuation and not token.isdigit()]\n",
        "\n",
        "    return [clean_and_tokenize(tokenize(text)) for text in texts]\n",
        "\n",
        "  def __init__(self):\n",
        "    print('Called')\n",
        "\n",
        "  def fit(self,x,y=None):\n",
        "    return self\n",
        "\n",
        "  def transform(self,X,y=None):\n",
        "    return CleaningData.preprocessing_corpus(X)"
      ],
      "execution_count": 89,
      "outputs": []
    },
    {
      "cell_type": "code",
      "metadata": {
        "colab": {
          "base_uri": "https://localhost:8080/"
        },
        "id": "8ARB4qIh6FPT",
        "outputId": "6719ede7-ab7c-4b44-b8a0-d265dcdfdc2d"
      },
      "source": [
        "logreg = LogisticRegression(max_iter=100000)\n",
        "\n",
        "pipe = Pipeline([('cleaning_data',CleaningData()),('create_embeddings',CreateEmbeddings()),('logreg',LogisticRegression())])\n",
        "pipe.fit(X_train,y_train)"
      ],
      "execution_count": 92,
      "outputs": [
        {
          "output_type": "stream",
          "text": [
            "Called\n",
            "Called\n"
          ],
          "name": "stdout"
        },
        {
          "output_type": "stream",
          "text": [
            "/usr/local/lib/python3.7/dist-packages/sklearn/linear_model/_logistic.py:940: ConvergenceWarning: lbfgs failed to converge (status=1):\n",
            "STOP: TOTAL NO. of ITERATIONS REACHED LIMIT.\n",
            "\n",
            "Increase the number of iterations (max_iter) or scale the data as shown in:\n",
            "    https://scikit-learn.org/stable/modules/preprocessing.html\n",
            "Please also refer to the documentation for alternative solver options:\n",
            "    https://scikit-learn.org/stable/modules/linear_model.html#logistic-regression\n",
            "  extra_warning_msg=_LOGISTIC_SOLVER_CONVERGENCE_MSG)\n"
          ],
          "name": "stderr"
        },
        {
          "output_type": "execute_result",
          "data": {
            "text/plain": [
              "Pipeline(memory=None,\n",
              "         steps=[('cleaning_data',\n",
              "                 <__main__.CleaningData object at 0x7f5edc418f90>),\n",
              "                ('create_embeddings',\n",
              "                 <__main__.CreateEmbeddings object at 0x7f5edc41a110>),\n",
              "                ('logreg',\n",
              "                 LogisticRegression(C=1.0, class_weight=None, dual=False,\n",
              "                                    fit_intercept=True, intercept_scaling=1,\n",
              "                                    l1_ratio=None, max_iter=100,\n",
              "                                    multi_class='auto', n_jobs=None,\n",
              "                                    penalty='l2', random_state=None,\n",
              "                                    solver='lbfgs', tol=0.0001, verbose=0,\n",
              "                                    warm_start=False))],\n",
              "         verbose=False)"
            ]
          },
          "metadata": {
            "tags": []
          },
          "execution_count": 92
        }
      ]
    },
    {
      "cell_type": "code",
      "metadata": {
        "id": "-P_jwvWH_M9J"
      },
      "source": [
        "pred = pipe.predict(X_test)"
      ],
      "execution_count": 93,
      "outputs": []
    },
    {
      "cell_type": "code",
      "metadata": {
        "colab": {
          "base_uri": "https://localhost:8080/"
        },
        "id": "Hi0cPAqa_osZ",
        "outputId": "d9dca3f5-17ba-4640-ace3-fc03de11641b"
      },
      "source": [
        "accuracy = metrics.accuracy_score(y_test,pred)\n",
        "print(accuracy)"
      ],
      "execution_count": 94,
      "outputs": [
        {
          "output_type": "stream",
          "text": [
            "0.85\n"
          ],
          "name": "stdout"
        }
      ]
    },
    {
      "cell_type": "code",
      "metadata": {
        "colab": {
          "base_uri": "https://localhost:8080/"
        },
        "id": "OWJUJSNcAT23",
        "outputId": "d2ac215d-492f-4935-bf31-4b713589716d"
      },
      "source": [
        "pred_test = pipe.predict(np.array(['This movies was so bad']))\n",
        "print(pred_test)"
      ],
      "execution_count": 95,
      "outputs": [
        {
          "output_type": "stream",
          "text": [
            "[0]\n"
          ],
          "name": "stdout"
        }
      ]
    },
    {
      "cell_type": "code",
      "metadata": {
        "id": "S2un5_OcAevk"
      },
      "source": [
        "pickle_out = open(\"model_pipeline.pkl\",\"wb\")\n",
        "pickle.dump(pipe,pickle_out)\n",
        "pickle_out.close()"
      ],
      "execution_count": 96,
      "outputs": []
    },
    {
      "cell_type": "code",
      "metadata": {
        "id": "EMRYftVVD9XA"
      },
      "source": [
        "\n",
        "load_model = pickle.load(open(\"model_pipeline.pkl\",\"rb\"))"
      ],
      "execution_count": 97,
      "outputs": []
    },
    {
      "cell_type": "code",
      "metadata": {
        "id": "Pc3obU4lE8IG"
      },
      "source": [
        "pred_test = load_model.predict(np.array(['This movies was so bad']))"
      ],
      "execution_count": 98,
      "outputs": []
    },
    {
      "cell_type": "code",
      "metadata": {
        "colab": {
          "base_uri": "https://localhost:8080/"
        },
        "id": "eqZQzL54FChb",
        "outputId": "ef0491c1-8a24-4f74-d734-e7c7ef4519a1"
      },
      "source": [
        "pred_test"
      ],
      "execution_count": 99,
      "outputs": [
        {
          "output_type": "execute_result",
          "data": {
            "text/plain": [
              "array([0])"
            ]
          },
          "metadata": {
            "tags": []
          },
          "execution_count": 99
        }
      ]
    },
    {
      "cell_type": "code",
      "metadata": {
        "id": "GfPzCfh_HKtQ"
      },
      "source": [
        "pickle_out = open(\"wtovmodel.pkl\",\"wb\")\n",
        "pickle.dump(word2vec_model,pickle_out)\n",
        "pickle_out.close()"
      ],
      "execution_count": 100,
      "outputs": []
    },
    {
      "cell_type": "code",
      "metadata": {
        "id": "DgCyT7O8Hflm"
      },
      "source": [
        ""
      ],
      "execution_count": null,
      "outputs": []
    }
  ]
}